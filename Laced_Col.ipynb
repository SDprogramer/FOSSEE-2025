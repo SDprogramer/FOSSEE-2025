{
 "cells": [
  {
   "cell_type": "code",
   "execution_count": 9,
   "metadata": {},
   "outputs": [],
   "source": [
    "from OCC.Core.gp import gp_Vec, gp_Trsf\n",
    "from OCC.Core.BRepPrimAPI import BRepPrimAPI_MakeBox\n",
    "from OCC.Core.BRepAlgoAPI import BRepAlgoAPI_Fuse\n",
    "from OCC.Core.BRepBuilderAPI import BRepBuilderAPI_Transform"
   ]
  },
  {
   "cell_type": "code",
   "execution_count": 10,
   "metadata": {},
   "outputs": [],
   "source": [
    "def build_i_section(length, flange_width, section_height, flange_thick, web_thick):\n",
    "    # Create a basic I-section using boxes for web and flanges.\n",
    "    # The I-section is defined by its length, flange width, section height, flange thickness, and web thickness.\n",
    "    web_height = section_height - 2 * flange_thick\n",
    "\n",
    "    # Bottom flange\n",
    "    bottom = BRepPrimAPI_MakeBox(length, flange_width, flange_thick).Shape()\n",
    "\n",
    "    # Top flange (placed at the top of the section)\n",
    "    top = BRepPrimAPI_MakeBox(length, flange_width, flange_thick).Shape()\n",
    "    move_top = gp_Trsf()\n",
    "    move_top.SetTranslation(gp_Vec(0, 0, section_height - flange_thick))\n",
    "    top = BRepBuilderAPI_Transform(top, move_top).Shape()\n",
    "\n",
    "    # Web (centered between the flanges)\n",
    "    web = BRepPrimAPI_MakeBox(length, web_thick, web_height).Shape()\n",
    "    move_web = gp_Trsf()\n",
    "    move_web.SetTranslation(gp_Vec(0, (flange_width - web_thick) / 2, flange_thick))\n",
    "    web = BRepBuilderAPI_Transform(web, move_web).Shape()\n",
    "\n",
    "    # Fuse all parts into one solid I-section\n",
    "    section = BRepAlgoAPI_Fuse(bottom, top).Shape()\n",
    "    section = BRepAlgoAPI_Fuse(section, web).Shape()\n",
    "\n",
    "    return section"
   ]
  },
  {
   "cell_type": "code",
   "execution_count": 11,
   "metadata": {},
   "outputs": [],
   "source": [
    "def combine_two_i_sections(base_section, gap_between):\n",
    "    # Duplicate the I-section and place it parallel to the first.\n",
    "\n",
    "    move = gp_Trsf()\n",
    "    move.SetTranslation(gp_Vec(gap_between, 0, 0))\n",
    "    second_section = BRepBuilderAPI_Transform(base_section, move).Shape()\n",
    "\n",
    "    # Merge both sections together\n",
    "    combined = BRepAlgoAPI_Fuse(base_section, second_section).Shape()\n",
    "\n",
    "    return combined"
   ]
  },
  {
   "cell_type": "code",
   "execution_count": 12,
   "metadata": {},
   "outputs": [],
   "source": [
    "def attach_end_battens(structure, batten_width=430, batten_height=300, batten_thickness=10, gap=450):\n",
    "    # Attach battens to the ends of the combined I-sections.\n",
    "    # The battens are rectangular prisms that connect the two I-sections.\n",
    "    # Add battens at both ends to connect the I-sections.\n",
    "    \n",
    "    batten = BRepPrimAPI_MakeBox(batten_thickness, batten_width, batten_height).Shape()\n",
    "\n",
    "    # Left batten\n",
    "    move_left = gp_Trsf()\n",
    "    move_left.SetTranslation(gp_Vec(-batten_thickness, -batten_width / 2, 0))\n",
    "    batten_left = BRepBuilderAPI_Transform(batten, move_left).Shape()\n",
    "\n",
    "    # Right batten\n",
    "    move_right = gp_Trsf()\n",
    "    move_right.SetTranslation(gp_Vec(gap, -batten_width / 2, 0))\n",
    "    batten_right = BRepBuilderAPI_Transform(batten, move_right).Shape()\n",
    "\n",
    "    # Merge battens to the structure\n",
    "    structure = BRepAlgoAPI_Fuse(structure, batten_left).Shape()\n",
    "    structure = BRepAlgoAPI_Fuse(structure, batten_right).Shape()\n",
    "\n",
    "    return structure"
   ]
  },
  {
   "cell_type": "code",
   "execution_count": 13,
   "metadata": {},
   "outputs": [],
   "source": [
    "def add_diagonal_lacing(structure, flat_width=100, flat_thickness=8, column_gap=450, column_height=6000):\n",
    "    # Add diagonal lacing bars between the two I-sections.\n",
    "    # The lacing bars are flat bars that connect the two I-sections diagonally.\n",
    "    # Add lacing bars (approx 45°) between the I-sections.\n",
    "\n",
    "    lacing_bar = BRepPrimAPI_MakeBox(flat_thickness, flat_width, column_height).Shape()\n",
    "\n",
    "    # Move lacing bar to mid-height between the two I-sections\n",
    "    move_lace = gp_Trsf()\n",
    "    move_lace.SetTranslation(gp_Vec(column_gap / 2, -flat_width / 2, column_height / 2))\n",
    "    lacing_bar = BRepBuilderAPI_Transform(lacing_bar, move_lace).Shape()\n",
    "\n",
    "    structure = BRepAlgoAPI_Fuse(structure, lacing_bar).Shape()\n",
    "\n",
    "    return structure"
   ]
  },
  {
   "cell_type": "code",
   "execution_count": 14,
   "metadata": {},
   "outputs": [],
   "source": [
    "def make_laced_column():\n",
    "    # Basic parameters\n",
    "    column_length = 6000\n",
    "    section_width = 200\n",
    "    section_height = 450\n",
    "    flange_thickness = 10\n",
    "    web_thickness = 6\n",
    "    spacing_between_sections = 450\n",
    "\n",
    "    single_section = build_i_section(column_length, section_width, section_height, flange_thickness, web_thickness)\n",
    "\n",
    "    double_section = combine_two_i_sections(single_section, spacing_between_sections)\n",
    "\n",
    "    framed_column = attach_end_battens(double_section)\n",
    "\n",
    "    final_structure = add_diagonal_lacing(framed_column)\n",
    "\n",
    "    return final_structure"
   ]
  },
  {
   "cell_type": "code",
   "execution_count": 15,
   "metadata": {},
   "outputs": [],
   "source": [
    "from OCC.Display.SimpleGui import init_display"
   ]
  },
  {
   "cell_type": "code",
   "execution_count": 16,
   "metadata": {},
   "outputs": [],
   "source": [
    "if __name__ == \"__main__\":\n",
    "    display, start_display, add_menu, add_function_to_menu = init_display()\n",
    "\n",
    "    compound_column = make_laced_column()\n",
    "\n",
    "    display.DisplayShape(compound_column, update=True)\n",
    "    display.FitAll()\n",
    "    start_display()"
   ]
  },
  {
   "cell_type": "code",
   "execution_count": null,
   "metadata": {},
   "outputs": [],
   "source": []
  }
 ],
 "metadata": {
  "kernelspec": {
   "display_name": "fossenv",
   "language": "python",
   "name": "python3"
  },
  "language_info": {
   "codemirror_mode": {
    "name": "ipython",
    "version": 3
   },
   "file_extension": ".py",
   "mimetype": "text/x-python",
   "name": "python",
   "nbconvert_exporter": "python",
   "pygments_lexer": "ipython3",
   "version": "3.10.16"
  }
 },
 "nbformat": 4,
 "nbformat_minor": 2
}
